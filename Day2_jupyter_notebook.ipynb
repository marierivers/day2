{
 "cells": [
  {
   "cell_type": "code",
   "execution_count": 11,
   "id": "1cff2cd8-d31b-4b7b-a20e-d02cbca8da79",
   "metadata": {},
   "outputs": [
    {
     "ename": "NameError",
     "evalue": "name 'bulletpoints' is not defined",
     "output_type": "error",
     "traceback": [
      "\u001b[0;31m---------------------------------------------------------------------------\u001b[0m",
      "\u001b[0;31mNameError\u001b[0m                                 Traceback (most recent call last)",
      "\u001b[0;32m<ipython-input-11-978373202d7d>\u001b[0m in \u001b[0;36m<module>\u001b[0;34m\u001b[0m\n\u001b[1;32m      2\u001b[0m \u001b[0;31m### Marie Rivers\u001b[0m\u001b[0;34m\u001b[0m\u001b[0;34m\u001b[0m\u001b[0;34m\u001b[0m\u001b[0m\n\u001b[1;32m      3\u001b[0m \u001b[0;31m#### EDS 212, shift return to run code\u001b[0m\u001b[0;34m\u001b[0m\u001b[0;34m\u001b[0m\u001b[0;34m\u001b[0m\u001b[0m\n\u001b[0;32m----> 4\u001b[0;31m \u001b[0;34m-\u001b[0m\u001b[0mbulletpoints\u001b[0m\u001b[0;34m\u001b[0m\u001b[0;34m\u001b[0m\u001b[0m\n\u001b[0m\u001b[1;32m      5\u001b[0m \u001b[0;34m-\u001b[0m\u001b[0myay\u001b[0m\u001b[0;34m\u001b[0m\u001b[0;34m\u001b[0m\u001b[0m\n",
      "\u001b[0;31mNameError\u001b[0m: name 'bulletpoints' is not defined"
     ]
    }
   ],
   "source": [
    "## Introduction to Jupyter Notebooks\n",
    "### Marie Rivers\n",
    "#### EDS 212, shift return to run code\n",
    "-bullet points\n",
    "-yay"
   ]
  },
  {
   "cell_type": "code",
   "execution_count": 7,
   "id": "ec78444b-ede7-4a30-958f-71a067443c5b",
   "metadata": {
    "tags": []
   },
   "outputs": [],
   "source": [
    "teddy = 10"
   ]
  },
  {
   "cell_type": "code",
   "execution_count": 8,
   "id": "771c02d6-4208-4fc4-9681-6115b46a5a46",
   "metadata": {},
   "outputs": [
    {
     "data": {
      "text/plain": [
       "10"
      ]
     },
     "execution_count": 8,
     "metadata": {},
     "output_type": "execute_result"
    }
   ],
   "source": [
    "teddy"
   ]
  },
  {
   "cell_type": "code",
   "execution_count": 10,
   "id": "b195c761-70d0-46d9-aecf-fe471408c90c",
   "metadata": {},
   "outputs": [
    {
     "data": {
      "text/plain": [
       "30"
      ]
     },
     "execution_count": 10,
     "metadata": {},
     "output_type": "execute_result"
    }
   ],
   "source": [
    "teddy + 20"
   ]
  },
  {
   "cell_type": "code",
   "execution_count": 12,
   "id": "e09db5ad-33f7-4bfa-87e6-eebd7b6bb8be",
   "metadata": {},
   "outputs": [],
   "source": [
    "def my_sum(apples, bananas):\n",
    "    fruit_total = apples + bananas\n",
    "    print(fruit_total)"
   ]
  },
  {
   "cell_type": "code",
   "execution_count": 13,
   "id": "9d213df8-e132-45e5-bc83-3ade59ecd69c",
   "metadata": {},
   "outputs": [
    {
     "name": "stdout",
     "output_type": "stream",
     "text": [
      "32\n"
     ]
    }
   ],
   "source": [
    "my_sum(apples = 14, bananas = 18)"
   ]
  },
  {
   "cell_type": "code",
   "execution_count": null,
   "id": "1a1424de-4f3f-44f9-91f8-4d6f1e061b50",
   "metadata": {},
   "outputs": [],
   "source": []
  }
 ],
 "metadata": {
  "kernelspec": {
   "display_name": "Python 3",
   "language": "python",
   "name": "python3"
  },
  "language_info": {
   "codemirror_mode": {
    "name": "ipython",
    "version": 3
   },
   "file_extension": ".py",
   "mimetype": "text/x-python",
   "name": "python",
   "nbconvert_exporter": "python",
   "pygments_lexer": "ipython3",
   "version": "3.8.8"
  }
 },
 "nbformat": 4,
 "nbformat_minor": 5
}
